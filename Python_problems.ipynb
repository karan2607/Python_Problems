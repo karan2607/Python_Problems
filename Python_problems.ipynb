{
 "cells": [
  {
   "cell_type": "markdown",
   "metadata": {},
   "source": [
    "# Problem 1"
   ]
  },
  {
   "cell_type": "code",
   "execution_count": 2,
   "metadata": {},
   "outputs": [
    {
     "name": "stdout",
     "output_type": "stream",
     "text": [
      "8\n"
     ]
    }
   ],
   "source": [
    "def max(a,b):\n",
    "    if a>b:\n",
    "        return a\n",
    "    else:\n",
    "        return b\n",
    "print(max(8,4))    "
   ]
  },
  {
   "cell_type": "markdown",
   "metadata": {},
   "source": [
    "# Problem 2"
   ]
  },
  {
   "cell_type": "code",
   "execution_count": 4,
   "metadata": {},
   "outputs": [
    {
     "name": "stdout",
     "output_type": "stream",
     "text": [
      "14\n"
     ]
    }
   ],
   "source": [
    "def max_of_three(a,b,c):\n",
    "    if a>b and a>c:\n",
    "        return a\n",
    "    elif b>a and b>c:\n",
    "        return b\n",
    "    else:\n",
    "        return c\n",
    "print(max_of_three(2,14,5))    "
   ]
  },
  {
   "cell_type": "markdown",
   "metadata": {},
   "source": [
    "# Problem 3"
   ]
  },
  {
   "cell_type": "code",
   "execution_count": 10,
   "metadata": {},
   "outputs": [
    {
     "name": "stdout",
     "output_type": "stream",
     "text": [
      "5\n"
     ]
    }
   ],
   "source": [
    "def compute(a):\n",
    "    count = 0\n",
    "    for i in a:\n",
    "        count = count +1\n",
    "    return count\n",
    "a = [2,4,66,5,3]\n",
    "print(compute(a))"
   ]
  },
  {
   "cell_type": "markdown",
   "metadata": {},
   "source": [
    "# Problem 4"
   ]
  },
  {
   "cell_type": "code",
   "execution_count": 15,
   "metadata": {},
   "outputs": [
    {
     "name": "stdout",
     "output_type": "stream",
     "text": [
      "True\n"
     ]
    }
   ],
   "source": [
    "def vowel(a):\n",
    "    char = ['a','e','i','o','u']\n",
    "    if a in char:\n",
    "        return True\n",
    "    else:\n",
    "        return False\n",
    "print(vowel('i'))    "
   ]
  },
  {
   "cell_type": "markdown",
   "metadata": {},
   "source": [
    "# Problem 5"
   ]
  },
  {
   "cell_type": "code",
   "execution_count": 28,
   "metadata": {},
   "outputs": [
    {
     "name": "stdout",
     "output_type": "stream",
     "text": [
      "tothohisos isos fofunon\n"
     ]
    }
   ],
   "source": [
    "def translate(a):\n",
    "    char = ['a','e','i','o','u']\n",
    "    b = \"\"\n",
    "    for i in a:\n",
    "        if i == \" \":\n",
    "            b = b+i\n",
    "        elif i in char:\n",
    "            b = b+i\n",
    "        else:\n",
    "            b = b+i\n",
    "            b = b+'o'\n",
    "            b = b + i\n",
    "    return b  \n",
    "a = \"this is fun\"\n",
    "print(translate(a))\n",
    "        \n",
    "            "
   ]
  },
  {
   "cell_type": "markdown",
   "metadata": {},
   "source": [
    "# Problem 6"
   ]
  },
  {
   "cell_type": "code",
   "execution_count": 42,
   "metadata": {},
   "outputs": [
    {
     "name": "stdout",
     "output_type": "stream",
     "text": [
      "10\n",
      "24\n"
     ]
    }
   ],
   "source": [
    "n = [4,3,2,1]\n",
    "def add(n):\n",
    "    sum = 0\n",
    "    for i in n:\n",
    "        sum = sum + i\n",
    "    return sum    \n",
    "def mul(n):\n",
    "    mult = 1\n",
    "    for i in n:\n",
    "        mult = mult *i\n",
    "    return mult\n",
    "print(add(n))\n",
    "print(mul(n))"
   ]
  },
  {
   "cell_type": "markdown",
   "metadata": {},
   "source": [
    "# Problem 7"
   ]
  },
  {
   "cell_type": "code",
   "execution_count": 44,
   "metadata": {},
   "outputs": [
    {
     "name": "stdout",
     "output_type": "stream",
     "text": [
      "gnitset ma I\n"
     ]
    }
   ],
   "source": [
    "def reverse(a):\n",
    "    b = \"\"\n",
    "    for i in a[::-1]:\n",
    "        b = b+i\n",
    "    return b\n",
    "print(reverse(\"I am testing\"))\n",
    "                "
   ]
  },
  {
   "cell_type": "markdown",
   "metadata": {},
   "source": [
    "# Problem 8"
   ]
  },
  {
   "cell_type": "code",
   "execution_count": 48,
   "metadata": {},
   "outputs": [
    {
     "name": "stdout",
     "output_type": "stream",
     "text": [
      "True\n"
     ]
    }
   ],
   "source": [
    "def is_palindrome(a):\n",
    "    if a == a[::-1]:\n",
    "        return True\n",
    "    else:\n",
    "        return False\n",
    "print(is_palindrome('radar'))        "
   ]
  },
  {
   "cell_type": "markdown",
   "metadata": {},
   "source": [
    "# Problem 9"
   ]
  },
  {
   "cell_type": "code",
   "execution_count": 52,
   "metadata": {},
   "outputs": [
    {
     "name": "stdout",
     "output_type": "stream",
     "text": [
      "False\n"
     ]
    }
   ],
   "source": [
    "def is_member(x,a):\n",
    "    count = 0\n",
    "    for i in a:\n",
    "        if i==x:\n",
    "            count = count +1\n",
    "    if count == 0:\n",
    "        return False\n",
    "    else:\n",
    "        return True\n",
    "print(is_member(0,[2,7,1,9]))    \n",
    "        "
   ]
  },
  {
   "cell_type": "markdown",
   "metadata": {},
   "source": [
    "# Problem 10"
   ]
  },
  {
   "cell_type": "code",
   "execution_count": 55,
   "metadata": {},
   "outputs": [
    {
     "name": "stdout",
     "output_type": "stream",
     "text": [
      "False\n"
     ]
    }
   ],
   "source": [
    "def overlapping(a,b):\n",
    "    count = 0\n",
    "    for i in a:\n",
    "        for j in b:\n",
    "            if j == i:\n",
    "                count = count +1\n",
    "    if count == 0:\n",
    "        return False\n",
    "    else:\n",
    "        return True\n",
    "print(overlapping([3,5,8,8],[2,7,1,9]))      "
   ]
  },
  {
   "cell_type": "markdown",
   "metadata": {},
   "source": [
    "# Problem 11"
   ]
  },
  {
   "cell_type": "code",
   "execution_count": 59,
   "metadata": {},
   "outputs": [
    {
     "name": "stdout",
     "output_type": "stream",
     "text": [
      "cccccccccc\n"
     ]
    }
   ],
   "source": [
    "def generate_n_chars(n,c):\n",
    "    val = ''\n",
    "    for i in range(n):\n",
    "        val = val + c\n",
    "    return val\n",
    "print(generate_n_chars(10,'c'))"
   ]
  },
  {
   "cell_type": "markdown",
   "metadata": {},
   "source": [
    "# Problem 12"
   ]
  },
  {
   "cell_type": "code",
   "execution_count": 62,
   "metadata": {},
   "outputs": [
    {
     "name": "stdout",
     "output_type": "stream",
     "text": [
      "****\n",
      "********\n",
      "*******\n"
     ]
    }
   ],
   "source": [
    "def histogram(a):\n",
    "    for i in a:\n",
    "        print(\"*\"*i)\n",
    "histogram([4,8,7])        "
   ]
  },
  {
   "cell_type": "code",
   "execution_count": null,
   "metadata": {},
   "outputs": [],
   "source": []
  },
  {
   "cell_type": "code",
   "execution_count": null,
   "metadata": {},
   "outputs": [],
   "source": []
  },
  {
   "cell_type": "code",
   "execution_count": null,
   "metadata": {},
   "outputs": [],
   "source": []
  },
  {
   "cell_type": "code",
   "execution_count": null,
   "metadata": {},
   "outputs": [],
   "source": []
  }
 ],
 "metadata": {
  "kernelspec": {
   "display_name": "Python 3",
   "language": "python",
   "name": "python3"
  },
  "language_info": {
   "codemirror_mode": {
    "name": "ipython",
    "version": 3
   },
   "file_extension": ".py",
   "mimetype": "text/x-python",
   "name": "python",
   "nbconvert_exporter": "python",
   "pygments_lexer": "ipython3",
   "version": "3.7.3"
  }
 },
 "nbformat": 4,
 "nbformat_minor": 2
}
